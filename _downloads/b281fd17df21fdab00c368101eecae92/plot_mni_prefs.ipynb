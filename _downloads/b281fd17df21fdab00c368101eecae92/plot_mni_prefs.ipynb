{
  "cells": [
    {
      "cell_type": "markdown",
      "metadata": {},
      "source": [
        "# Brain resolution and MNI Template Preferences\n\nBy default nltools uses a 2mm MNI template which means all `Brain_Data` operations will automatically be resampled to that space if they aren't already at that resolution. If you know you want to work in another space you can set that for all operations using the prefs module:\n"
      ]
    },
    {
      "cell_type": "markdown",
      "metadata": {},
      "source": [
        "## Setting GLOBAL MNI template preferences\n\n\n"
      ]
    },
    {
      "cell_type": "code",
      "execution_count": null,
      "metadata": {
        "collapsed": false
      },
      "outputs": [],
      "source": [
        "from nltools.prefs import MNI_Template, resolve_mni_path\nfrom nltools.data import Brain_Data\nfrom nltools.simulator import Simulator  # just for dummy data"
      ]
    },
    {
      "cell_type": "markdown",
      "metadata": {},
      "source": [
        "Here we create some dummy data. Notice that it defaults to 2mm resolution. You can verify this by seeing that the voxel count is approximately 240k:\n\n"
      ]
    },
    {
      "cell_type": "code",
      "execution_count": null,
      "metadata": {
        "collapsed": false
      },
      "outputs": [],
      "source": [
        "dummy_brain = Simulator().create_data([0, 1], 1, reps=3)\ndummy_brain.write(\"dummy_2mm_brain.nii.gz\")  # save it for later\ndummy_brain  # default 2mm resolution"
      ]
    },
    {
      "cell_type": "markdown",
      "metadata": {},
      "source": [
        "You can also get the exact file locations of the currently loaded default template and masks:\n\n"
      ]
    },
    {
      "cell_type": "code",
      "execution_count": null,
      "metadata": {
        "collapsed": false
      },
      "outputs": [],
      "source": [
        "resolve_mni_path(MNI_Template)"
      ]
    },
    {
      "cell_type": "markdown",
      "metadata": {},
      "source": [
        "To update this simply change the resolution attribute of the MNI_Template. NOTE: that this will change **all** subsequent Brain_Data operations to utilize this new space. Therefore we **highly recommend** doing this at the top of any analysis notebook or script you use to prevent unexpected results\n\n"
      ]
    },
    {
      "cell_type": "code",
      "execution_count": null,
      "metadata": {
        "collapsed": false
      },
      "outputs": [],
      "source": [
        "MNI_Template.resolution = 3  # passing the string '3mm' also works\ndummy_brain_3mm = Simulator().create_data([0, 1], 1, reps=3)\ndummy_brain_3mm  # should be 3mm"
      ]
    },
    {
      "cell_type": "markdown",
      "metadata": {},
      "source": [
        "The voxel count is now ~70k and you can see the file paths of the global template:\n\n"
      ]
    },
    {
      "cell_type": "code",
      "execution_count": null,
      "metadata": {
        "collapsed": false
      },
      "outputs": [],
      "source": [
        "resolve_mni_path(MNI_Template)"
      ]
    },
    {
      "cell_type": "markdown",
      "metadata": {},
      "source": [
        "Notice that when we load we load the previous 2mm brain, it's **automatically** resampled to the currently set default MNI template (3mm):\n\n"
      ]
    },
    {
      "cell_type": "code",
      "execution_count": null,
      "metadata": {
        "collapsed": false
      },
      "outputs": [],
      "source": [
        "loaded_brain = Brain_Data(\"dummy_2mm_brain.nii.gz\")\nloaded_brain  # now in 3mm space!"
      ]
    },
    {
      "cell_type": "markdown",
      "metadata": {},
      "source": [
        "## Setting local resolution preferences\n\nIf you want to override the global setting on a case-by-case basis, simply use the `mask` argument in `Brain_Data`. This will resample data to the resolution of the `mask` ignoring whatever `MNI_Template` is set to:\n\n"
      ]
    },
    {
      "cell_type": "code",
      "execution_count": null,
      "metadata": {
        "collapsed": false
      },
      "outputs": [],
      "source": [
        "# Here we save the 3mm path as a variable, but in your own data you can provide\n# the location of any nifti file\nmask_file_3mm = resolve_mni_path(MNI_Template)[\"mask\"]\n\nMNI_Template.resolution = 2  # reset the global MNI template to 2mm\nload_using_default = Brain_Data(\"dummy_2mm_brain.nii.gz\")\nload_using_default  # 2mm space"
      ]
    },
    {
      "cell_type": "code",
      "execution_count": null,
      "metadata": {
        "collapsed": false
      },
      "outputs": [],
      "source": [
        "load_using_3mm_mask = Brain_Data(\"dummy_2mm_brain.nii.gz\", mask=mask_file_3mm)\nload_using_3mm_mask  # resampled to 3mm space because a mask was provided"
      ]
    },
    {
      "cell_type": "markdown",
      "metadata": {},
      "source": [
        "Notice that the global setting is still 2mm, but by providing a `mask` we were able to override it\n\n"
      ]
    },
    {
      "cell_type": "code",
      "execution_count": null,
      "metadata": {
        "collapsed": false
      },
      "outputs": [],
      "source": [
        "resolve_mni_path(MNI_Template)"
      ]
    }
  ],
  "metadata": {
    "kernelspec": {
      "display_name": "Python 3",
      "language": "python",
      "name": "python3"
    },
    "language_info": {
      "codemirror_mode": {
        "name": "ipython",
        "version": 3
      },
      "file_extension": ".py",
      "mimetype": "text/x-python",
      "name": "python",
      "nbconvert_exporter": "python",
      "pygments_lexer": "ipython3",
      "version": "3.8.18"
    }
  },
  "nbformat": 4,
  "nbformat_minor": 0
}